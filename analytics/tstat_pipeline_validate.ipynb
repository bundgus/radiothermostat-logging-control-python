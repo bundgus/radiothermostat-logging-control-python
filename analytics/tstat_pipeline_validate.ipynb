{
 "cells": [
  {
   "cell_type": "code",
   "execution_count": 173,
   "metadata": {},
   "outputs": [],
   "source": [
    "import numpy as np\n",
    "import pandas as pd\n",
    "\n",
    "from sklearn.linear_model import LogisticRegression\n",
    "from sklearn.svm import LinearSVC\n",
    "from sklearn.ensemble import ExtraTreesClassifier\n",
    "from sklearn.ensemble import RandomForestClassifier\n",
    "from xgboost import XGBClassifier\n",
    "\n",
    "from sklearn.model_selection import train_test_split\n",
    "from sklearn.metrics import confusion_matrix"
   ]
  },
  {
   "cell_type": "code",
   "execution_count": 174,
   "metadata": {},
   "outputs": [],
   "source": [
    "tpot_data = pd.read_csv('tstat_log_prepared_balanced.csv', sep=',', dtype=np.float64)\n",
    "features = tpot_data.drop('class', axis=1).values\n",
    "training_features, testing_features, training_target, testing_target = \\\n",
    "            train_test_split(features, tpot_data['class'].values, random_state=42)\n",
    "#tpot_data.columns[:-1]"
   ]
  },
  {
   "cell_type": "code",
   "execution_count": 175,
   "metadata": {
    "collapsed": true
   },
   "outputs": [],
   "source": [
    "#exported_pipeline = LogisticRegression(C=25.0, dual=False, penalty=\"l2\") # 0.96799999999999997\n",
    "#exported_pipeline = LinearSVC(C=15.0, dual=False, loss=\"squared_hinge\", penalty=\"l1\", tol=0.01) # 0.96799999999999997\n",
    "#exported_pipeline = ExtraTreesClassifier(bootstrap=False, criterion=\"gini\", max_features=0.55, min_samples_leaf=20, min_samples_split=18, n_estimators=100) # 0.94399999999999995\n",
    "#exported_pipeline = RandomForestClassifier(bootstrap=True, criterion=\"gini\", max_features=0.6000000000000001, min_samples_leaf=9, min_samples_split=19, n_estimators=100) # 0.98399999999999999\n",
    "#exported_pipeline = RandomForestClassifier(bootstrap=False, criterion=\"gini\", max_features=0.45, min_samples_leaf=18, min_samples_split=5, n_estimators=100) # 0.99037632864119507\n",
    "exported_pipeline = XGBClassifier(learning_rate=0.001, max_depth=5, min_child_weight=7, n_estimators=100, nthread=1, subsample=0.7500000000000001)\n"
   ]
  },
  {
   "cell_type": "code",
   "execution_count": 176,
   "metadata": {},
   "outputs": [],
   "source": [
    "#exported_pipeline.fit(training_features, training_target)"
   ]
  },
  {
   "cell_type": "code",
   "execution_count": 177,
   "metadata": {},
   "outputs": [
    {
     "name": "stdout",
     "output_type": "stream",
     "text": [
      "('ts2_t_cool', 0.021686748)\n",
      "('ts2_temp', 0.19397591)\n",
      "('wu_UV', 0.12891567)\n",
      "('wu_relative_humidity', 0.20481928)\n",
      "('wu_temp_f', 0.21084337)\n",
      "('wu_wind_degrees', 0.10481928)\n",
      "('wu_wind_mph', 0.078313254)\n",
      "('Partly Cloudy', 0.025301205)\n",
      "('ts2_tstate_Cool', 0.014457831)\n"
     ]
    }
   ],
   "source": [
    "exported_pipeline.fit(training_features, training_target)\n",
    "for fi in zip(tpot_data.columns[:-1], exported_pipeline.feature_importances_):\n",
    "    if fi[1] > 0.01:\n",
    "        print(fi)"
   ]
  },
  {
   "cell_type": "code",
   "execution_count": 178,
   "metadata": {},
   "outputs": [],
   "source": [
    "#print('bad predictions')\n",
    "#print('target','prediction')\n",
    "#print(tpot_data.columns[:-1])\n",
    "'''\n",
    "for f, t, p in zip(testing_features, testing_target, results):\n",
    "    if p != t:\n",
    "    #    print(f, t, p)\n",
    "        print(\"Actual outcome :: {} and Predicted outcome :: {}\".format(t, p))\n",
    "'''\n",
    "pass"
   ]
  },
  {
   "cell_type": "code",
   "execution_count": 179,
   "metadata": {},
   "outputs": [
    {
     "name": "stdout",
     "output_type": "stream",
     "text": [
      "Score 0.812297734628\n",
      "Confusion matrix\n",
      " [[251   0]\n",
      " [ 58   0]]\n",
      "percent yes correct 0.0\n"
     ]
    }
   ],
   "source": [
    "results = exported_pipeline.predict(testing_features)\n",
    "print(\"Score\", exported_pipeline.score(testing_features, testing_target))\n",
    "matrix = confusion_matrix(testing_target, results)\n",
    "print(\"Confusion matrix\\n\", matrix)\n",
    "percent_yes_correct = matrix[1,1]/(matrix[1,0]+matrix[1,1])\n",
    "print('percent yes correct', percent_yes_correct)"
   ]
  },
  {
   "cell_type": "code",
   "execution_count": 180,
   "metadata": {},
   "outputs": [
    {
     "name": "stdout",
     "output_type": "stream",
     "text": [
      "Score 0.990376328641\n",
      "Confusion matrix\n",
      " [[6895    0]\n",
      " [  67    0]]\n",
      "percent yes correct 0.0\n"
     ]
    }
   ],
   "source": [
    "# after trained with balanced data, try with unbalanced data set\n",
    "tpot_data = pd.read_csv('tstat_log_prepared.csv', sep=',', dtype=np.float64)\n",
    "features = tpot_data.drop('class', axis=1).values\n",
    "training_features, testing_features, training_target, testing_target = \\\n",
    "            train_test_split(features, tpot_data['class'].values, random_state=42)\n",
    "tpot_data.columns[:-1]\n",
    "\n",
    "results = exported_pipeline.predict(testing_features)\n",
    "\n",
    "print(\"Score\", exported_pipeline.score(testing_features, testing_target))\n",
    "matrix = confusion_matrix(testing_target, results)\n",
    "print(\"Confusion matrix\\n\", matrix)\n",
    "percent_yes_correct = matrix[1,1]/(matrix[1,0]+matrix[1,1])\n",
    "print('percent yes correct', percent_yes_correct)"
   ]
  },
  {
   "cell_type": "code",
   "execution_count": null,
   "metadata": {
    "collapsed": true
   },
   "outputs": [],
   "source": []
  }
 ],
 "metadata": {
  "kernelspec": {
   "display_name": "Python 3",
   "language": "python",
   "name": "python3"
  },
  "language_info": {
   "codemirror_mode": {
    "name": "ipython",
    "version": 3
   },
   "file_extension": ".py",
   "mimetype": "text/x-python",
   "name": "python",
   "nbconvert_exporter": "python",
   "pygments_lexer": "ipython3",
   "version": "3.6.1"
  }
 },
 "nbformat": 4,
 "nbformat_minor": 2
}
