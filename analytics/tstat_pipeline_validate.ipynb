{
 "cells": [
  {
   "cell_type": "code",
   "execution_count": 51,
   "metadata": {},
   "outputs": [],
   "source": [
    "import numpy as np\n",
    "import pandas as pd\n",
    "\n",
    "from sklearn.linear_model import LogisticRegression\n",
    "from sklearn.svm import LinearSVC\n",
    "from sklearn.ensemble import ExtraTreesClassifier\n",
    "from sklearn.ensemble import RandomForestClassifier\n",
    "from xgboost import XGBClassifier\n",
    "\n",
    "from sklearn.model_selection import train_test_split\n",
    "from sklearn.metrics import confusion_matrix"
   ]
  },
  {
   "cell_type": "code",
   "execution_count": 52,
   "metadata": {},
   "outputs": [
    {
     "data": {
      "text/plain": [
       "Index(['ts2_t_cool', 'ts2_temp', 'wu_UV', 'wu_dewpoint_f', 'wu_heat_index_f',\n",
       "       'wu_precip_1hr_in', 'wu_relative_humidity', 'wu_temp_f',\n",
       "       'wu_wind_degrees', 'wu_wind_gust_mph',\n",
       "       ...\n",
       "       'Wednesday_21', 'Wednesday_22', 'Wednesday_23', 'Wednesday_3',\n",
       "       'Wednesday_4', 'Wednesday_5', 'Wednesday_6', 'Wednesday_7',\n",
       "       'Wednesday_8', 'Wednesday_9'],\n",
       "      dtype='object', length=190)"
      ]
     },
     "execution_count": 52,
     "metadata": {},
     "output_type": "execute_result"
    }
   ],
   "source": [
    "tpot_data = pd.read_csv('tstat_log_prepared_balanced.csv', sep=',', dtype=np.float64)\n",
    "features = tpot_data.drop('class', axis=1).values\n",
    "training_features, testing_features, training_target, testing_target = \\\n",
    "            train_test_split(features, tpot_data['class'].values, random_state=42)\n",
    "tpot_data.columns[:-1]"
   ]
  },
  {
   "cell_type": "code",
   "execution_count": 53,
   "metadata": {},
   "outputs": [],
   "source": [
    "#exported_pipeline = LogisticRegression(C=25.0, dual=False, penalty=\"l2\") # 0.96799999999999997\n",
    "#exported_pipeline = LinearSVC(C=15.0, dual=False, loss=\"squared_hinge\", penalty=\"l1\", tol=0.01) # 0.96799999999999997\n",
    "#exported_pipeline = ExtraTreesClassifier(bootstrap=False, criterion=\"gini\", max_features=0.55, min_samples_leaf=20, min_samples_split=18, n_estimators=100) # 0.94399999999999995\n",
    "#exported_pipeline = RandomForestClassifier(bootstrap=True, criterion=\"gini\", max_features=0.6000000000000001, min_samples_leaf=9, min_samples_split=19, n_estimators=100) # 0.98399999999999999\n",
    "#exported_pipeline = RandomForestClassifier(bootstrap=False, criterion=\"gini\", max_features=0.45, min_samples_leaf=18, min_samples_split=5, n_estimators=100) # 0.99037632864119507\n",
    "exported_pipeline = XGBClassifier(learning_rate=0.001, max_depth=5, min_child_weight=7, n_estimators=100, nthread=1, subsample=0.7500000000000001)\n"
   ]
  },
  {
   "cell_type": "code",
   "execution_count": 54,
   "metadata": {},
   "outputs": [
    {
     "data": {
      "text/plain": [
       "XGBClassifier(base_score=0.5, colsample_bylevel=1, colsample_bytree=1,\n",
       "       gamma=0, learning_rate=0.001, max_delta_step=0, max_depth=5,\n",
       "       min_child_weight=7, missing=None, n_estimators=100, nthread=1,\n",
       "       objective='binary:logistic', reg_alpha=0, reg_lambda=1,\n",
       "       scale_pos_weight=1, seed=0, silent=True,\n",
       "       subsample=0.7500000000000001)"
      ]
     },
     "execution_count": 54,
     "metadata": {},
     "output_type": "execute_result"
    }
   ],
   "source": [
    "exported_pipeline.fit(training_features, training_target)"
   ]
  },
  {
   "cell_type": "code",
   "execution_count": 55,
   "metadata": {},
   "outputs": [
    {
     "name": "stdout",
     "output_type": "stream",
     "text": [
      "('ts2_t_cool', 0.29673591)\n",
      "('ts2_temp', 0.29673591)\n",
      "('wu_UV', 0.026706232)\n",
      "('wu_dewpoint_f', 0.011869436)\n",
      "('wu_heat_index_f', 0.03560831)\n",
      "('wu_relative_humidity', 0.06231454)\n",
      "('wu_temp_f', 0.03560831)\n",
      "('wu_wind_degrees', 0.13649851)\n",
      "('Clear', 0.011869436)\n",
      "('Partly Cloudy', 0.080118693)\n"
     ]
    }
   ],
   "source": [
    "for fi in zip(tpot_data.columns[:-1], exported_pipeline.feature_importances_):\n",
    "    if fi[1] > 0.01:\n",
    "        print(fi)"
   ]
  },
  {
   "cell_type": "code",
   "execution_count": 56,
   "metadata": {
    "collapsed": true
   },
   "outputs": [],
   "source": [
    "results = exported_pipeline.predict(testing_features)"
   ]
  },
  {
   "cell_type": "code",
   "execution_count": 57,
   "metadata": {},
   "outputs": [
    {
     "name": "stdout",
     "output_type": "stream",
     "text": [
      "bad predictions\n",
      "target prediction\n",
      "Actual outcome :: 0.0 and Predicted outcome :: 1.0\n",
      "Actual outcome :: 0.0 and Predicted outcome :: 1.0\n",
      "Actual outcome :: 1.0 and Predicted outcome :: 0.0\n",
      "Actual outcome :: 1.0 and Predicted outcome :: 0.0\n",
      "Actual outcome :: 0.0 and Predicted outcome :: 1.0\n",
      "Actual outcome :: 0.0 and Predicted outcome :: 1.0\n",
      "Actual outcome :: 0.0 and Predicted outcome :: 1.0\n",
      "Actual outcome :: 0.0 and Predicted outcome :: 1.0\n",
      "Actual outcome :: 0.0 and Predicted outcome :: 1.0\n"
     ]
    }
   ],
   "source": [
    "print('bad predictions')\n",
    "print('target','prediction')\n",
    "#print(tpot_data.columns[:-1])\n",
    "for f, t, p in zip(testing_features, testing_target, results):\n",
    "    if p != t:\n",
    "    #    print(f, t, p)\n",
    "        print(\"Actual outcome :: {} and Predicted outcome :: {}\".format(t, p))"
   ]
  },
  {
   "cell_type": "code",
   "execution_count": 58,
   "metadata": {},
   "outputs": [
    {
     "data": {
      "text/plain": [
       "0.970873786407767"
      ]
     },
     "execution_count": 58,
     "metadata": {},
     "output_type": "execute_result"
    }
   ],
   "source": [
    "exported_pipeline.score(testing_features, testing_target)"
   ]
  },
  {
   "cell_type": "code",
   "execution_count": 59,
   "metadata": {},
   "outputs": [
    {
     "name": "stdout",
     "output_type": "stream",
     "text": [
      " Confusion matrix\n",
      " [[244   7]\n",
      " [  2  56]]\n"
     ]
    }
   ],
   "source": [
    "print(\" Confusion matrix\\n\", confusion_matrix(testing_target, results))"
   ]
  },
  {
   "cell_type": "code",
   "execution_count": 60,
   "metadata": {},
   "outputs": [
    {
     "name": "stdout",
     "output_type": "stream",
     "text": [
      "0.965527147371\n",
      " Confusion matrix\n",
      " [[6661  234]\n",
      " [   6   61]]\n"
     ]
    }
   ],
   "source": [
    "# after trained with balanced data, try with unbalanced data set\n",
    "tpot_data = pd.read_csv('tstat_log_prepared.csv', sep=',', dtype=np.float64)\n",
    "features = tpot_data.drop('class', axis=1).values\n",
    "training_features, testing_features, training_target, testing_target = \\\n",
    "            train_test_split(features, tpot_data['class'].values, random_state=42)\n",
    "tpot_data.columns[:-1]\n",
    "\n",
    "results = exported_pipeline.predict(testing_features)\n",
    "\n",
    "print(exported_pipeline.score(testing_features, testing_target))\n",
    "print(\" Confusion matrix\\n\", confusion_matrix(testing_target, results))"
   ]
  },
  {
   "cell_type": "code",
   "execution_count": null,
   "metadata": {
    "collapsed": true
   },
   "outputs": [],
   "source": []
  }
 ],
 "metadata": {
  "kernelspec": {
   "display_name": "Python 3",
   "language": "python",
   "name": "python3"
  },
  "language_info": {
   "codemirror_mode": {
    "name": "ipython",
    "version": 3
   },
   "file_extension": ".py",
   "mimetype": "text/x-python",
   "name": "python",
   "nbconvert_exporter": "python",
   "pygments_lexer": "ipython3",
   "version": "3.6.1"
  }
 },
 "nbformat": 4,
 "nbformat_minor": 2
}
