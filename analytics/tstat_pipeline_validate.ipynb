{
 "cells": [
  {
   "cell_type": "code",
   "execution_count": 6,
   "metadata": {
    "collapsed": true
   },
   "outputs": [],
   "source": [
    "import numpy as np\n",
    "import pandas as pd\n",
    "from sklearn.linear_model import LogisticRegression\n",
    "from sklearn.svm import LinearSVC\n",
    "from sklearn.ensemble import ExtraTreesClassifier\n",
    "from sklearn.model_selection import train_test_split"
   ]
  },
  {
   "cell_type": "code",
   "execution_count": 7,
   "metadata": {},
   "outputs": [
    {
     "data": {
      "text/plain": [
       "Index(['ts1_t_cool', 'ts1_temp', 'ts2_t_cool', 'ts2_temp', 'wu_UV',\n",
       "       'wu_dewpoint_f', 'wu_heat_index_f', 'wu_precip_1hr_in',\n",
       "       'wu_relative_humidity', 'wu_temp_f', 'wu_wind_degrees',\n",
       "       'wu_wind_gust_mph', 'wu_wind_mph', 'Clear', 'Mostly Cloudy', 'Overcast',\n",
       "       'Partly Cloudy', 'Rain', 'Scattered Clouds', 'Thunderstorm',\n",
       "       'ts1_tmode_Cool', 'ts1_tmode_Heat', 'ts1_tmode_Off', 'ts1_tstate_Cool',\n",
       "       'ts1_tstate_Heat', 'ts1_tstate_Off', 'ts2_tmode_Cool', 'ts2_tmode_Off',\n",
       "       'ts2_tstate_Cool', 'ts2_tstate_Off', 'Friday', 'Monday', 'Saturday',\n",
       "       'Sunday', 'Thursday', 'Tuesday', 'Wednesday', 'hour_0', 'hour_1',\n",
       "       'hour_2', 'hour_3', 'hour_4', 'hour_5', 'hour_6', 'hour_7', 'hour_8',\n",
       "       'hour_9', 'hour_10', 'hour_11', 'hour_12', 'hour_13', 'hour_14',\n",
       "       'hour_15', 'hour_16', 'hour_17', 'hour_18', 'hour_19', 'hour_20',\n",
       "       'hour_21', 'hour_22', 'hour_23'],\n",
       "      dtype='object')"
      ]
     },
     "execution_count": 7,
     "metadata": {},
     "output_type": "execute_result"
    }
   ],
   "source": [
    "tpot_data = pd.read_csv('tstat_log_prepared_balanced.csv', sep=',', dtype=np.float64)\n",
    "features = tpot_data.drop('class', axis=1).values\n",
    "training_features, testing_features, training_target, testing_target = \\\n",
    "            train_test_split(features, tpot_data['class'].values, random_state=42)\n",
    "tpot_data.columns[:-1]"
   ]
  },
  {
   "cell_type": "code",
   "execution_count": 8,
   "metadata": {
    "collapsed": true
   },
   "outputs": [],
   "source": [
    "#exported_pipeline = LogisticRegression(C=25.0, dual=False, penalty=\"l2\") # 0.96799999999999997\n",
    "#exported_pipeline = LinearSVC(C=15.0, dual=False, loss=\"squared_hinge\", penalty=\"l1\", tol=0.01) # 0.96799999999999997\n",
    "#exported_pipeline = ExtraTreesClassifier(bootstrap=False, criterion=\"gini\", max_features=0.55, min_samples_leaf=20, min_samples_split=18, n_estimators=100) # 0.94399999999999995\n"
   ]
  },
  {
   "cell_type": "code",
   "execution_count": 9,
   "metadata": {},
   "outputs": [
    {
     "data": {
      "text/plain": [
       "ExtraTreesClassifier(bootstrap=False, class_weight=None, criterion='gini',\n",
       "           max_depth=None, max_features=0.55, max_leaf_nodes=None,\n",
       "           min_impurity_split=1e-07, min_samples_leaf=20,\n",
       "           min_samples_split=18, min_weight_fraction_leaf=0.0,\n",
       "           n_estimators=100, n_jobs=1, oob_score=False, random_state=None,\n",
       "           verbose=0, warm_start=False)"
      ]
     },
     "execution_count": 9,
     "metadata": {},
     "output_type": "execute_result"
    }
   ],
   "source": [
    "exported_pipeline.fit(training_features, training_target)"
   ]
  },
  {
   "cell_type": "code",
   "execution_count": 10,
   "metadata": {
    "scrolled": false
   },
   "outputs": [],
   "source": [
    "#for z in zip(tpot_data.columns, exported_pipeline.coef_[0]):\n",
    "#    print(z)"
   ]
  },
  {
   "cell_type": "code",
   "execution_count": 11,
   "metadata": {
    "collapsed": true
   },
   "outputs": [],
   "source": [
    "results = exported_pipeline.predict(testing_features)"
   ]
  },
  {
   "cell_type": "code",
   "execution_count": 12,
   "metadata": {},
   "outputs": [
    {
     "name": "stdout",
     "output_type": "stream",
     "text": [
      "bad predictions\n",
      "target prediction\n",
      "0.0 1.0\n",
      "1.0 0.0\n",
      "0.0 1.0\n",
      "1.0 0.0\n",
      "0.0 1.0\n",
      "1.0 0.0\n",
      "1.0 0.0\n"
     ]
    }
   ],
   "source": [
    "print('bad predictions')\n",
    "print('target','prediction')\n",
    "for t, p in zip(testing_target, results):\n",
    "        if t != p:\n",
    "            print(t, p)"
   ]
  },
  {
   "cell_type": "code",
   "execution_count": 13,
   "metadata": {},
   "outputs": [
    {
     "data": {
      "text/plain": [
       "0.94399999999999995"
      ]
     },
     "execution_count": 13,
     "metadata": {},
     "output_type": "execute_result"
    }
   ],
   "source": [
    "exported_pipeline.score(testing_features, testing_target)"
   ]
  },
  {
   "cell_type": "code",
   "execution_count": null,
   "metadata": {
    "collapsed": true
   },
   "outputs": [],
   "source": []
  }
 ],
 "metadata": {
  "kernelspec": {
   "display_name": "Python 3",
   "language": "python",
   "name": "python3"
  },
  "language_info": {
   "codemirror_mode": {
    "name": "ipython",
    "version": 3
   },
   "file_extension": ".py",
   "mimetype": "text/x-python",
   "name": "python",
   "nbconvert_exporter": "python",
   "pygments_lexer": "ipython3",
   "version": "3.6.1"
  }
 },
 "nbformat": 4,
 "nbformat_minor": 2
}
